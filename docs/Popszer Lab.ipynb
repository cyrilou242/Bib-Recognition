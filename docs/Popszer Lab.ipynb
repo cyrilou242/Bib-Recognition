{
 "cells": [
  {
   "cell_type": "markdown",
   "metadata": {},
   "source": [
    "# Pospzer Dev "
   ]
  },
  {
   "cell_type": "code",
   "execution_count": 2,
   "metadata": {},
   "outputs": [
    {
     "ename": "ModuleNotFoundError",
     "evalue": "No module named 'cloudstorage'",
     "traceback": [
      "\u001b[0;31m---------------------------------------------------------------------------\u001b[0m",
      "\u001b[0;31mModuleNotFoundError\u001b[0m                       Traceback (most recent call last)",
      "\u001b[0;32m<ipython-input-2-2ea5cd63629c>\u001b[0m in \u001b[0;36m<module>\u001b[0;34m()\u001b[0m\n\u001b[1;32m      2\u001b[0m \u001b[0;32mimport\u001b[0m \u001b[0mos\u001b[0m\u001b[0;34m\u001b[0m\u001b[0m\n\u001b[1;32m      3\u001b[0m \u001b[0;32mimport\u001b[0m \u001b[0mlogging\u001b[0m\u001b[0;34m\u001b[0m\u001b[0m\n\u001b[0;32m----> 4\u001b[0;31m \u001b[0;32mimport\u001b[0m \u001b[0mcloudstorage\u001b[0m \u001b[0;32mas\u001b[0m \u001b[0mgcs\u001b[0m\u001b[0;34m\u001b[0m\u001b[0m\n\u001b[0m\u001b[1;32m      5\u001b[0m \u001b[0;32mimport\u001b[0m \u001b[0mwebapp2\u001b[0m\u001b[0;34m\u001b[0m\u001b[0m\n\u001b[1;32m      6\u001b[0m \u001b[0;34m\u001b[0m\u001b[0m\n",
      "\u001b[0;31mModuleNotFoundError\u001b[0m: No module named 'cloudstorage'"
     ],
     "output_type": "error"
    }
   ],
   "source": [
    "import io\n",
    "import os\n",
    "import logging\n",
    "import cloudstorage as gcs\n",
    "import webapp2\n",
    "\n",
    "from google.appengine.api import app_identity\n",
    "\n",
    "# Imports the Google Cloud client library\n",
    "from google.cloud import vision_v1"
   ]
  },
  {
   "cell_type": "code",
   "execution_count": 3,
   "metadata": {
    "collapsed": true
   },
   "outputs": [],
   "source": [
    "def get(self):\n",
    "    bucket_name = os.environ.get('BUCKET_NAME',\n",
    "                               app_identity.get_default_gcs_bucket_name())\n",
    "\n",
    "    self.response.headers['Content-Type'] = 'text/plain'\n",
    "    self.response.write('Demo GCS Application running from Version: '\n",
    "                      + os.environ['CURRENT_VERSION_ID'] + '\\n')\n",
    "    self.response.write('Using bucket name: ' + bucket_name + '\\n\\n')"
   ]
  },
  {
   "cell_type": "code",
   "execution_count": 4,
   "metadata": {
    "collapsed": true
   },
   "outputs": [],
   "source": [
    "def list_bucket(self, bucket):\n",
    "  \"\"\"Create several files and paginate through them.\n",
    "\n",
    "  Production apps should set page_size to a practical value.\n",
    "\n",
    "  Args:\n",
    "    bucket: bucket.\n",
    "  \"\"\"\n",
    "  self.response.write('Listbucket result:\\n')\n",
    "\n",
    "  page_size = 1\n",
    "  stats = gcs.listbucket(bucket + '/foo', max_keys=page_size)\n",
    "  while True:\n",
    "    count = 0\n",
    "    for stat in stats:\n",
    "      count += 1\n",
    "      self.response.write(repr(stat))\n",
    "      self.response.write('\\n')\n",
    "\n",
    "    if count != page_size or count == 0:\n",
    "      break\n",
    "    stats = gcs.listbucket(bucket + '/foo', max_keys=page_size,\n",
    "                           marker=stat.filename)"
   ]
  },
  {
   "cell_type": "code",
   "execution_count": null,
   "metadata": {
    "collapsed": true
   },
   "outputs": [],
   "source": [
    "list_bucket(get(self), )"
   ]
  },
  {
   "cell_type": "code",
   "execution_count": 43,
   "metadata": {},
   "outputs": [],
   "source": [
    "from google.cloud import vision_v1\n",
    "client = vision_v1.ImageAnnotatorClient()\n",
    "\n",
    "requests = [{'image': {'source': {'image_uri': 'gs://bib_sample/1.png'}},'features': [{'type': vision.enums.Feature.Type.TEXT_DETECTION}],}, {'image': {'source': {'image_uri': 'gs://bib_sample/2.png'}},'features': [{'type': vision.enums.Feature.Type.TEXT_DETECTION}],}, {'image': {'source': {'image_uri': 'gs://bib_sample/3.png'}},'features': [{'type': vision.enums.Feature.Type.TEXT_DETECTION}],}]\n",
    "response = client.batch_annotate_images(requests)\n",
    "ans = response.responses"
   ]
  },
  {
   "cell_type": "code",
   "execution_count": 45,
   "metadata": {},
   "outputs": [
    {
     "name": "stdout",
     "output_type": "stream",
     "text": [
      "464\n",
      "\n",
      "464\n"
     ]
    }
   ],
   "source": [
    "l = len(ans[0].text_annotations)\n",
    "for i in range(l):\n",
    "    print(ans[0].text_annotations[i].description)\n",
    "#ans[0].text_annotations[1].description"
   ]
  }
 ],
 "metadata": {
  "kernelspec": {
   "display_name": "Python 3",
   "language": "python",
   "name": "python3"
  },
  "language_info": {
   "codemirror_mode": {
    "name": "ipython",
    "version": 3
   },
   "file_extension": ".py",
   "mimetype": "text/x-python",
   "name": "python",
   "nbconvert_exporter": "python",
   "pygments_lexer": "ipython3",
   "version": "3.6.3"
  }
 },
 "nbformat": 4,
 "nbformat_minor": 2
}
